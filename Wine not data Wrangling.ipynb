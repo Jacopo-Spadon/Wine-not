{
 "cells": [
  {
   "cell_type": "code",
   "execution_count": 16,
   "metadata": {},
   "outputs": [],
   "source": [
    "# Import libries\n",
    "\n",
    "import pandas as pd\n",
    "import numpy as np\n",
    "import matplotlib.pyplot as plt\n",
    "from scipy import stats\n",
    "\n"
   ]
  },
  {
   "cell_type": "code",
   "execution_count": 17,
   "metadata": {},
   "outputs": [],
   "source": [
    "# Import dataframes AND Specify a custom delimiter for the CSV input (sep=' ')\n",
    "\n",
    "red_df=pd.read_csv(r'C:\\Users\\jspad\\Documents\\Code Academy\\Data Bases\\winequality-red.csv', sep=';')\n",
    "white_df=pd.read_csv(r'C:\\Users\\jspad\\Documents\\Code Academy\\Data Bases\\winequality-white.csv',sep=';')"
   ]
  },
  {
   "cell_type": "code",
   "execution_count": 18,
   "metadata": {},
   "outputs": [
    {
     "data": {
      "text/plain": [
       "fixed acidity           0\n",
       "volatile acidity        0\n",
       "citric acid             0\n",
       "residual sugar          0\n",
       "chlorides               0\n",
       "free sulfur dioxide     0\n",
       "total sulfur dioxide    0\n",
       "density                 0\n",
       "pH                      0\n",
       "sulphates               0\n",
       "alcohol                 0\n",
       "quality                 0\n",
       "dtype: int64"
      ]
     },
     "execution_count": 18,
     "metadata": {},
     "output_type": "execute_result"
    }
   ],
   "source": [
    "# Checking null values\n",
    "\n",
    "red_df.isnull().sum()\n",
    "white_df.isnull().sum()"
   ]
  },
  {
   "cell_type": "code",
   "execution_count": 19,
   "metadata": {},
   "outputs": [
    {
     "data": {
      "text/html": [
       "<div>\n",
       "<style scoped>\n",
       "    .dataframe tbody tr th:only-of-type {\n",
       "        vertical-align: middle;\n",
       "    }\n",
       "\n",
       "    .dataframe tbody tr th {\n",
       "        vertical-align: top;\n",
       "    }\n",
       "\n",
       "    .dataframe thead th {\n",
       "        text-align: right;\n",
       "    }\n",
       "</style>\n",
       "<table border=\"1\" class=\"dataframe\">\n",
       "  <thead>\n",
       "    <tr style=\"text-align: right;\">\n",
       "      <th></th>\n",
       "      <th>fixed acidity</th>\n",
       "      <th>volatile acidity</th>\n",
       "      <th>citric acid</th>\n",
       "      <th>residual sugar</th>\n",
       "      <th>chlorides</th>\n",
       "      <th>free sulfur dioxide</th>\n",
       "      <th>total sulfur dioxide</th>\n",
       "      <th>density</th>\n",
       "      <th>pH</th>\n",
       "      <th>sulphates</th>\n",
       "      <th>alcohol</th>\n",
       "      <th>quality</th>\n",
       "    </tr>\n",
       "  </thead>\n",
       "  <tbody>\n",
       "    <tr>\n",
       "      <th>3265</th>\n",
       "      <td>4.2</td>\n",
       "      <td>0.215</td>\n",
       "      <td>0.23</td>\n",
       "      <td>5.10</td>\n",
       "      <td>0.041</td>\n",
       "      <td>64.0</td>\n",
       "      <td>157.0</td>\n",
       "      <td>0.99688</td>\n",
       "      <td>3.42</td>\n",
       "      <td>0.44</td>\n",
       "      <td>8.00</td>\n",
       "      <td>3</td>\n",
       "    </tr>\n",
       "    <tr>\n",
       "      <th>2625</th>\n",
       "      <td>4.5</td>\n",
       "      <td>0.190</td>\n",
       "      <td>0.21</td>\n",
       "      <td>0.95</td>\n",
       "      <td>0.033</td>\n",
       "      <td>89.0</td>\n",
       "      <td>159.0</td>\n",
       "      <td>0.99332</td>\n",
       "      <td>3.34</td>\n",
       "      <td>0.42</td>\n",
       "      <td>8.00</td>\n",
       "      <td>5</td>\n",
       "    </tr>\n",
       "    <tr>\n",
       "      <th>3839</th>\n",
       "      <td>6.2</td>\n",
       "      <td>0.310</td>\n",
       "      <td>0.23</td>\n",
       "      <td>3.30</td>\n",
       "      <td>0.052</td>\n",
       "      <td>34.0</td>\n",
       "      <td>113.0</td>\n",
       "      <td>0.99429</td>\n",
       "      <td>3.16</td>\n",
       "      <td>0.48</td>\n",
       "      <td>8.40</td>\n",
       "      <td>5</td>\n",
       "    </tr>\n",
       "    <tr>\n",
       "      <th>4020</th>\n",
       "      <td>6.4</td>\n",
       "      <td>0.370</td>\n",
       "      <td>0.12</td>\n",
       "      <td>5.90</td>\n",
       "      <td>0.056</td>\n",
       "      <td>6.0</td>\n",
       "      <td>91.0</td>\n",
       "      <td>0.99536</td>\n",
       "      <td>3.06</td>\n",
       "      <td>0.46</td>\n",
       "      <td>8.40</td>\n",
       "      <td>4</td>\n",
       "    </tr>\n",
       "    <tr>\n",
       "      <th>3835</th>\n",
       "      <td>6.2</td>\n",
       "      <td>0.310</td>\n",
       "      <td>0.23</td>\n",
       "      <td>3.30</td>\n",
       "      <td>0.052</td>\n",
       "      <td>34.0</td>\n",
       "      <td>113.0</td>\n",
       "      <td>0.99429</td>\n",
       "      <td>3.16</td>\n",
       "      <td>0.48</td>\n",
       "      <td>8.40</td>\n",
       "      <td>5</td>\n",
       "    </tr>\n",
       "    <tr>\n",
       "      <th>...</th>\n",
       "      <td>...</td>\n",
       "      <td>...</td>\n",
       "      <td>...</td>\n",
       "      <td>...</td>\n",
       "      <td>...</td>\n",
       "      <td>...</td>\n",
       "      <td>...</td>\n",
       "      <td>...</td>\n",
       "      <td>...</td>\n",
       "      <td>...</td>\n",
       "      <td>...</td>\n",
       "      <td>...</td>\n",
       "    </tr>\n",
       "    <tr>\n",
       "      <th>3904</th>\n",
       "      <td>5.0</td>\n",
       "      <td>0.455</td>\n",
       "      <td>0.18</td>\n",
       "      <td>1.90</td>\n",
       "      <td>0.036</td>\n",
       "      <td>33.0</td>\n",
       "      <td>106.0</td>\n",
       "      <td>0.98746</td>\n",
       "      <td>3.21</td>\n",
       "      <td>0.83</td>\n",
       "      <td>14.00</td>\n",
       "      <td>7</td>\n",
       "    </tr>\n",
       "    <tr>\n",
       "      <th>2945</th>\n",
       "      <td>4.9</td>\n",
       "      <td>0.330</td>\n",
       "      <td>0.31</td>\n",
       "      <td>1.20</td>\n",
       "      <td>0.016</td>\n",
       "      <td>39.0</td>\n",
       "      <td>150.0</td>\n",
       "      <td>0.98713</td>\n",
       "      <td>3.33</td>\n",
       "      <td>0.59</td>\n",
       "      <td>14.00</td>\n",
       "      <td>8</td>\n",
       "    </tr>\n",
       "    <tr>\n",
       "      <th>1099</th>\n",
       "      <td>5.8</td>\n",
       "      <td>0.290</td>\n",
       "      <td>0.21</td>\n",
       "      <td>2.60</td>\n",
       "      <td>0.025</td>\n",
       "      <td>12.0</td>\n",
       "      <td>120.0</td>\n",
       "      <td>0.98940</td>\n",
       "      <td>3.39</td>\n",
       "      <td>0.79</td>\n",
       "      <td>14.00</td>\n",
       "      <td>7</td>\n",
       "    </tr>\n",
       "    <tr>\n",
       "      <th>4503</th>\n",
       "      <td>5.8</td>\n",
       "      <td>0.610</td>\n",
       "      <td>0.01</td>\n",
       "      <td>8.40</td>\n",
       "      <td>0.041</td>\n",
       "      <td>31.0</td>\n",
       "      <td>104.0</td>\n",
       "      <td>0.99090</td>\n",
       "      <td>3.26</td>\n",
       "      <td>0.72</td>\n",
       "      <td>14.05</td>\n",
       "      <td>7</td>\n",
       "    </tr>\n",
       "    <tr>\n",
       "      <th>3918</th>\n",
       "      <td>6.4</td>\n",
       "      <td>0.350</td>\n",
       "      <td>0.28</td>\n",
       "      <td>1.60</td>\n",
       "      <td>0.037</td>\n",
       "      <td>31.0</td>\n",
       "      <td>113.0</td>\n",
       "      <td>0.98779</td>\n",
       "      <td>3.12</td>\n",
       "      <td>0.40</td>\n",
       "      <td>14.20</td>\n",
       "      <td>7</td>\n",
       "    </tr>\n",
       "  </tbody>\n",
       "</table>\n",
       "<p>4898 rows × 12 columns</p>\n",
       "</div>"
      ],
      "text/plain": [
       "      fixed acidity  volatile acidity  citric acid  residual sugar  chlorides  \\\n",
       "3265            4.2             0.215         0.23            5.10      0.041   \n",
       "2625            4.5             0.190         0.21            0.95      0.033   \n",
       "3839            6.2             0.310         0.23            3.30      0.052   \n",
       "4020            6.4             0.370         0.12            5.90      0.056   \n",
       "3835            6.2             0.310         0.23            3.30      0.052   \n",
       "...             ...               ...          ...             ...        ...   \n",
       "3904            5.0             0.455         0.18            1.90      0.036   \n",
       "2945            4.9             0.330         0.31            1.20      0.016   \n",
       "1099            5.8             0.290         0.21            2.60      0.025   \n",
       "4503            5.8             0.610         0.01            8.40      0.041   \n",
       "3918            6.4             0.350         0.28            1.60      0.037   \n",
       "\n",
       "      free sulfur dioxide  total sulfur dioxide  density    pH  sulphates  \\\n",
       "3265                 64.0                 157.0  0.99688  3.42       0.44   \n",
       "2625                 89.0                 159.0  0.99332  3.34       0.42   \n",
       "3839                 34.0                 113.0  0.99429  3.16       0.48   \n",
       "4020                  6.0                  91.0  0.99536  3.06       0.46   \n",
       "3835                 34.0                 113.0  0.99429  3.16       0.48   \n",
       "...                   ...                   ...      ...   ...        ...   \n",
       "3904                 33.0                 106.0  0.98746  3.21       0.83   \n",
       "2945                 39.0                 150.0  0.98713  3.33       0.59   \n",
       "1099                 12.0                 120.0  0.98940  3.39       0.79   \n",
       "4503                 31.0                 104.0  0.99090  3.26       0.72   \n",
       "3918                 31.0                 113.0  0.98779  3.12       0.40   \n",
       "\n",
       "      alcohol  quality  \n",
       "3265     8.00        3  \n",
       "2625     8.00        5  \n",
       "3839     8.40        5  \n",
       "4020     8.40        4  \n",
       "3835     8.40        5  \n",
       "...       ...      ...  \n",
       "3904    14.00        7  \n",
       "2945    14.00        8  \n",
       "1099    14.00        7  \n",
       "4503    14.05        7  \n",
       "3918    14.20        7  \n",
       "\n",
       "[4898 rows x 12 columns]"
      ]
     },
     "execution_count": 19,
     "metadata": {},
     "output_type": "execute_result"
    }
   ],
   "source": [
    "red_df.head(15)\n",
    "white_df.sort_values(['alcohol'])"
   ]
  },
  {
   "cell_type": "code",
   "execution_count": 20,
   "metadata": {},
   "outputs": [],
   "source": [
    "#creating new column\n",
    "\n",
    "red_df['quality_label']= red_df['quality'].apply(lambda value: 'low' \n",
    "if value <= 5 else 'medium'\n",
    "if value <=7 else 'high')\n",
    "\n",
    "white_df['quality_label']= white_df['quality'].apply(lambda value: 'low' \n",
    "if value <= 5 else 'medium'\n",
    "if value <=7 else 'high')\n",
    "\n"
   ]
  },
  {
   "cell_type": "code",
   "execution_count": 21,
   "metadata": {},
   "outputs": [],
   "source": [
    "# transforming these labels into categrical data type\n",
    "\n",
    "red_df['quality_label'] = pd.Categorical(red_df['quality_label'],\n",
    "categories=['low', 'medium', 'high'])\n",
    "\n",
    "white_df['quality_label'] = pd.Categorical(white_df['quality_label'],\n",
    "categories=['low', 'medium', 'high'])"
   ]
  },
  {
   "cell_type": "code",
   "execution_count": 22,
   "metadata": {},
   "outputs": [],
   "source": [
    "# Combine the two datasets into wines.\n",
    "\n",
    "red_df['wine_type'] = 'red'\n",
    "white_df['wine_type'] = 'white'\n",
    "\n",
    "wines = pd.concat([red_df, white_df])"
   ]
  },
  {
   "cell_type": "code",
   "execution_count": 23,
   "metadata": {},
   "outputs": [],
   "source": [
    "# Re-shuffle records just to randomize data points\n",
    "wines = wines.sample(frac=1, random_state=42).reset_index(drop=True)\n"
   ]
  },
  {
   "cell_type": "code",
   "execution_count": 24,
   "metadata": {},
   "outputs": [
    {
     "data": {
      "text/html": [
       "<div>\n",
       "<style scoped>\n",
       "    .dataframe tbody tr th:only-of-type {\n",
       "        vertical-align: middle;\n",
       "    }\n",
       "\n",
       "    .dataframe tbody tr th {\n",
       "        vertical-align: top;\n",
       "    }\n",
       "\n",
       "    .dataframe thead tr th {\n",
       "        text-align: left;\n",
       "    }\n",
       "</style>\n",
       "<table border=\"1\" class=\"dataframe\">\n",
       "  <thead>\n",
       "    <tr>\n",
       "      <th></th>\n",
       "      <th colspan=\"10\" halign=\"left\">Red Wine</th>\n",
       "      <th>...</th>\n",
       "      <th colspan=\"10\" halign=\"left\">White Wine</th>\n",
       "    </tr>\n",
       "    <tr>\n",
       "      <th></th>\n",
       "      <th>fixed acidity</th>\n",
       "      <th>volatile acidity</th>\n",
       "      <th>citric acid</th>\n",
       "      <th>residual sugar</th>\n",
       "      <th>chlorides</th>\n",
       "      <th>free sulfur dioxide</th>\n",
       "      <th>total sulfur dioxide</th>\n",
       "      <th>density</th>\n",
       "      <th>pH</th>\n",
       "      <th>sulphates</th>\n",
       "      <th>...</th>\n",
       "      <th>citric acid</th>\n",
       "      <th>residual sugar</th>\n",
       "      <th>chlorides</th>\n",
       "      <th>free sulfur dioxide</th>\n",
       "      <th>total sulfur dioxide</th>\n",
       "      <th>density</th>\n",
       "      <th>pH</th>\n",
       "      <th>sulphates</th>\n",
       "      <th>alcohol</th>\n",
       "      <th>quality</th>\n",
       "    </tr>\n",
       "  </thead>\n",
       "  <tbody>\n",
       "    <tr>\n",
       "      <th>count</th>\n",
       "      <td>1599.000000</td>\n",
       "      <td>1599.000000</td>\n",
       "      <td>1599.000000</td>\n",
       "      <td>1599.000000</td>\n",
       "      <td>1599.000000</td>\n",
       "      <td>1599.000000</td>\n",
       "      <td>1599.000000</td>\n",
       "      <td>1599.000000</td>\n",
       "      <td>1599.000000</td>\n",
       "      <td>1599.000000</td>\n",
       "      <td>...</td>\n",
       "      <td>4898.000000</td>\n",
       "      <td>4898.000000</td>\n",
       "      <td>4898.000000</td>\n",
       "      <td>4898.000000</td>\n",
       "      <td>4898.000000</td>\n",
       "      <td>4898.000000</td>\n",
       "      <td>4898.000000</td>\n",
       "      <td>4898.000000</td>\n",
       "      <td>4898.000000</td>\n",
       "      <td>4898.000000</td>\n",
       "    </tr>\n",
       "    <tr>\n",
       "      <th>mean</th>\n",
       "      <td>8.319637</td>\n",
       "      <td>0.527821</td>\n",
       "      <td>0.270976</td>\n",
       "      <td>2.538806</td>\n",
       "      <td>0.087467</td>\n",
       "      <td>15.874922</td>\n",
       "      <td>46.467792</td>\n",
       "      <td>0.996747</td>\n",
       "      <td>3.311113</td>\n",
       "      <td>0.658149</td>\n",
       "      <td>...</td>\n",
       "      <td>0.334192</td>\n",
       "      <td>6.391415</td>\n",
       "      <td>0.045772</td>\n",
       "      <td>35.308085</td>\n",
       "      <td>138.360657</td>\n",
       "      <td>0.994027</td>\n",
       "      <td>3.188267</td>\n",
       "      <td>0.489847</td>\n",
       "      <td>10.514267</td>\n",
       "      <td>5.877909</td>\n",
       "    </tr>\n",
       "    <tr>\n",
       "      <th>std</th>\n",
       "      <td>1.741096</td>\n",
       "      <td>0.179060</td>\n",
       "      <td>0.194801</td>\n",
       "      <td>1.409928</td>\n",
       "      <td>0.047065</td>\n",
       "      <td>10.460157</td>\n",
       "      <td>32.895324</td>\n",
       "      <td>0.001887</td>\n",
       "      <td>0.154386</td>\n",
       "      <td>0.169507</td>\n",
       "      <td>...</td>\n",
       "      <td>0.121020</td>\n",
       "      <td>5.072058</td>\n",
       "      <td>0.021848</td>\n",
       "      <td>17.007137</td>\n",
       "      <td>42.498065</td>\n",
       "      <td>0.002991</td>\n",
       "      <td>0.151001</td>\n",
       "      <td>0.114126</td>\n",
       "      <td>1.230621</td>\n",
       "      <td>0.885639</td>\n",
       "    </tr>\n",
       "    <tr>\n",
       "      <th>min</th>\n",
       "      <td>4.600000</td>\n",
       "      <td>0.120000</td>\n",
       "      <td>0.000000</td>\n",
       "      <td>0.900000</td>\n",
       "      <td>0.012000</td>\n",
       "      <td>1.000000</td>\n",
       "      <td>6.000000</td>\n",
       "      <td>0.990070</td>\n",
       "      <td>2.740000</td>\n",
       "      <td>0.330000</td>\n",
       "      <td>...</td>\n",
       "      <td>0.000000</td>\n",
       "      <td>0.600000</td>\n",
       "      <td>0.009000</td>\n",
       "      <td>2.000000</td>\n",
       "      <td>9.000000</td>\n",
       "      <td>0.987110</td>\n",
       "      <td>2.720000</td>\n",
       "      <td>0.220000</td>\n",
       "      <td>8.000000</td>\n",
       "      <td>3.000000</td>\n",
       "    </tr>\n",
       "    <tr>\n",
       "      <th>25%</th>\n",
       "      <td>7.100000</td>\n",
       "      <td>0.390000</td>\n",
       "      <td>0.090000</td>\n",
       "      <td>1.900000</td>\n",
       "      <td>0.070000</td>\n",
       "      <td>7.000000</td>\n",
       "      <td>22.000000</td>\n",
       "      <td>0.995600</td>\n",
       "      <td>3.210000</td>\n",
       "      <td>0.550000</td>\n",
       "      <td>...</td>\n",
       "      <td>0.270000</td>\n",
       "      <td>1.700000</td>\n",
       "      <td>0.036000</td>\n",
       "      <td>23.000000</td>\n",
       "      <td>108.000000</td>\n",
       "      <td>0.991723</td>\n",
       "      <td>3.090000</td>\n",
       "      <td>0.410000</td>\n",
       "      <td>9.500000</td>\n",
       "      <td>5.000000</td>\n",
       "    </tr>\n",
       "  </tbody>\n",
       "</table>\n",
       "<p>5 rows × 24 columns</p>\n",
       "</div>"
      ],
      "text/plain": [
       "           Red Wine                                                            \\\n",
       "      fixed acidity volatile acidity  citric acid residual sugar    chlorides   \n",
       "count   1599.000000      1599.000000  1599.000000    1599.000000  1599.000000   \n",
       "mean       8.319637         0.527821     0.270976       2.538806     0.087467   \n",
       "std        1.741096         0.179060     0.194801       1.409928     0.047065   \n",
       "min        4.600000         0.120000     0.000000       0.900000     0.012000   \n",
       "25%        7.100000         0.390000     0.090000       1.900000     0.070000   \n",
       "\n",
       "                                                                          \\\n",
       "      free sulfur dioxide total sulfur dioxide      density           pH   \n",
       "count         1599.000000          1599.000000  1599.000000  1599.000000   \n",
       "mean            15.874922            46.467792     0.996747     3.311113   \n",
       "std             10.460157            32.895324     0.001887     0.154386   \n",
       "min              1.000000             6.000000     0.990070     2.740000   \n",
       "25%              7.000000            22.000000     0.995600     3.210000   \n",
       "\n",
       "                    ...   White Wine                              \\\n",
       "         sulphates  ...  citric acid residual sugar    chlorides   \n",
       "count  1599.000000  ...  4898.000000    4898.000000  4898.000000   \n",
       "mean      0.658149  ...     0.334192       6.391415     0.045772   \n",
       "std       0.169507  ...     0.121020       5.072058     0.021848   \n",
       "min       0.330000  ...     0.000000       0.600000     0.009000   \n",
       "25%       0.550000  ...     0.270000       1.700000     0.036000   \n",
       "\n",
       "                                                                          \\\n",
       "      free sulfur dioxide total sulfur dioxide      density           pH   \n",
       "count         4898.000000          4898.000000  4898.000000  4898.000000   \n",
       "mean            35.308085           138.360657     0.994027     3.188267   \n",
       "std             17.007137            42.498065     0.002991     0.151001   \n",
       "min              2.000000             9.000000     0.987110     2.720000   \n",
       "25%             23.000000           108.000000     0.991723     3.090000   \n",
       "\n",
       "                                              \n",
       "         sulphates      alcohol      quality  \n",
       "count  4898.000000  4898.000000  4898.000000  \n",
       "mean      0.489847    10.514267     5.877909  \n",
       "std       0.114126     1.230621     0.885639  \n",
       "min       0.220000     8.000000     3.000000  \n",
       "25%       0.410000     9.500000     5.000000  \n",
       "\n",
       "[5 rows x 24 columns]"
      ]
     },
     "execution_count": 24,
     "metadata": {},
     "output_type": "execute_result"
    }
   ],
   "source": [
    "comparative_df= pd.concat([red_df.describe(), white_df.describe()], axis='columns', keys=['Red Wine', 'White Wine'])\n",
    "\n",
    "comparative_df.head()"
   ]
  },
  {
   "cell_type": "code",
   "execution_count": 25,
   "metadata": {},
   "outputs": [
    {
     "name": "stdout",
     "output_type": "stream",
     "text": [
      "       wine_type\n",
      "white       4898\n",
      "red         1599\n"
     ]
    },
    {
     "data": {
      "image/png": "[encoded data removed]",
      "text/plain": [
       "<Figure size 432x288 with 1 Axes>"
      ]
     },
     "metadata": {},
     "output_type": "display_data"
    }
   ],
   "source": [
    "# Pie chart wine Red/White:\n",
    "\n",
    "wine_ammount=pd.DataFrame(data=(wines['wine_type'].value_counts()))\n",
    "print(wine_ammount)\n",
    "\n",
    "\n",
    "labels = 'Red', 'White'\n",
    "sizes = [wine_ammount.iloc[1,0], wine_ammount.iloc[0,0]]\n",
    "explode = (0.1, 0.0)  \n",
    "# \"explode\" the 1st slice (Red)\n",
    "\n",
    "fig1, ax1 = plt.subplots()\n",
    "ax1.pie(sizes, explode=explode, labels=labels, autopct='%1.1f%%',\n",
    "        shadow=True, startangle=90)\n",
    "ax1.axis('equal')  # Equal aspect ratio ensures that pie is drawn as a circle.\n",
    "\n",
    "plt.show()"
   ]
  },
  {
   "cell_type": "code",
   "execution_count": 26,
   "metadata": {},
   "outputs": [
    {
     "data": {
      "image/png": "[encoded data removed]",
      "text/plain": [
       "<Figure size 432x288 with 2 Axes>"
      ]
     },
     "metadata": {
      "needs_background": "light"
     },
     "output_type": "display_data"
    },
    {
     "data": {
      "image/png": "[encoded data removed]",
      "text/plain": [
       "<Figure size 432x288 with 1 Axes>"
      ]
     },
     "metadata": {
      "needs_background": "light"
     },
     "output_type": "display_data"
    }
   ],
   "source": [
    "# Plot to show the distribution of qualities\n",
    "\n",
    "label_sort=pd.Categorical(['low', 'medium', 'high'], ordered=True)\n",
    "\n",
    "qred=pd.DataFrame(data=(red_df['quality_label'].value_counts().sort_index(level=label_sort)))\n",
    "qwhite=pd.DataFrame(data=(white_df['quality_label'].value_counts().sort_index(level=label_sort)))\n",
    "quality=pd.DataFrame(data=(wines['quality_label'].value_counts().sort_index(level=label_sort)))\n",
    "\n",
    "figure, axes = plt.subplots(1, 2, sharey=True)\n",
    "plt.subplots_adjust(hspace=.0)\n",
    "qwhite.plot(ax=axes[0], kind='bar', rot=0, fontsize=9, legend=None, color='y'); axes[0].set_title('White')\n",
    "qred.plot(ax=axes[1], kind='bar', rot=0, fontsize=9, legend=None, color='r'); axes[1].set_title('Red')\n",
    "figure.suptitle('Horizontally stacked subplots');\n",
    "\n",
    "quality.plot(y=\"quality_label\", kind=\"bar\", rot=0, fontsize=17, legend=None, color='g').set_title('Vinho Verde Quality Distribution');\n",
    "\n"
   ]
  },
  {
   "cell_type": "code",
   "execution_count": 27,
   "metadata": {},
   "outputs": [
    {
     "ename": "ValueError",
     "evalue": "The truth value of a Series is ambiguous. Use a.empty, a.bool(), a.item(), a.any() or a.all().",
     "output_type": "error",
     "traceback": [
      "\u001b[1;31m---------------------------------------------------------------------------\u001b[0m",
      "\u001b[1;31mValueError\u001b[0m                                Traceback (most recent call last)",
      "\u001b[1;32m<ipython-input-27-b6aeb0fdc881>\u001b[0m in \u001b[0;36m<module>\u001b[1;34m\u001b[0m\n\u001b[0;32m      1\u001b[0m \u001b[1;31m# Boxplot Using Matplotlib\u001b[0m\u001b[1;33m\u001b[0m\u001b[1;33m\u001b[0m\u001b[1;33m\u001b[0m\u001b[0m\n\u001b[0;32m      2\u001b[0m \u001b[1;33m\u001b[0m\u001b[0m\n\u001b[1;32m----> 3\u001b[1;33m \u001b[0mplt\u001b[0m\u001b[1;33m.\u001b[0m\u001b[0mboxplot\u001b[0m\u001b[1;33m(\u001b[0m\u001b[0mwines\u001b[0m\u001b[1;33m[\u001b[0m\u001b[0mwines\u001b[0m\u001b[1;33m[\u001b[0m\u001b[1;34m'quality_label'\u001b[0m\u001b[1;33m]\u001b[0m \u001b[1;33m==\u001b[0m \u001b[1;34m'low'\u001b[0m\u001b[1;33m]\u001b[0m\u001b[1;33m[\u001b[0m\u001b[1;34m'alcohol'\u001b[0m\u001b[1;33m]\u001b[0m\u001b[1;33m,\u001b[0m \u001b[0mwines\u001b[0m\u001b[1;33m[\u001b[0m\u001b[0mwines\u001b[0m\u001b[1;33m[\u001b[0m\u001b[1;34m'quality_label'\u001b[0m\u001b[1;33m]\u001b[0m \u001b[1;33m==\u001b[0m \u001b[1;34m'medium'\u001b[0m\u001b[1;33m]\u001b[0m\u001b[1;33m[\u001b[0m\u001b[1;34m'alcohol'\u001b[0m\u001b[1;33m]\u001b[0m\u001b[1;33m,\u001b[0m \u001b[0mwines\u001b[0m\u001b[1;33m[\u001b[0m\u001b[0mwines\u001b[0m\u001b[1;33m[\u001b[0m\u001b[1;34m'quality_label'\u001b[0m\u001b[1;33m]\u001b[0m \u001b[1;33m==\u001b[0m \u001b[1;34m'high'\u001b[0m\u001b[1;33m]\u001b[0m\u001b[1;33m[\u001b[0m\u001b[1;34m'alcohol'\u001b[0m\u001b[1;33m]\u001b[0m\u001b[1;33m)\u001b[0m\u001b[1;31m#, patch_artist=True, boxprops=dict(facecolor='g', color='k'), medianprops=dict(color='k'))#,labels=['low', 'medium', 'high'])\u001b[0m\u001b[1;33m\u001b[0m\u001b[1;33m\u001b[0m\u001b[0m\n\u001b[0m\u001b[0;32m      4\u001b[0m \u001b[0mplt\u001b[0m\u001b[1;33m.\u001b[0m\u001b[0mtitle\u001b[0m\u001b[1;33m(\u001b[0m\u001b[1;34m\"Boxplot Using Matplotlib\"\u001b[0m\u001b[1;33m)\u001b[0m\u001b[1;33m\u001b[0m\u001b[1;33m\u001b[0m\u001b[0m\n\u001b[0;32m      5\u001b[0m \u001b[0mplt\u001b[0m\u001b[1;33m.\u001b[0m\u001b[0mshow\u001b[0m\u001b[1;33m(\u001b[0m\u001b[1;33m)\u001b[0m\u001b[1;33m\u001b[0m\u001b[1;33m\u001b[0m\u001b[0m\n",
      "\u001b[1;32m~\\anaconda3\\lib\\site-packages\\matplotlib\\pyplot.py\u001b[0m in \u001b[0;36mboxplot\u001b[1;34m(x, notch, sym, vert, whis, positions, widths, patch_artist, bootstrap, usermedians, conf_intervals, meanline, showmeans, showcaps, showbox, showfliers, boxprops, labels, flierprops, medianprops, meanprops, capprops, whiskerprops, manage_ticks, autorange, zorder, data)\u001b[0m\n\u001b[0;32m   2515\u001b[0m         \u001b[0mwhiskerprops\u001b[0m\u001b[1;33m=\u001b[0m\u001b[1;32mNone\u001b[0m\u001b[1;33m,\u001b[0m \u001b[0mmanage_ticks\u001b[0m\u001b[1;33m=\u001b[0m\u001b[1;32mTrue\u001b[0m\u001b[1;33m,\u001b[0m \u001b[0mautorange\u001b[0m\u001b[1;33m=\u001b[0m\u001b[1;32mFalse\u001b[0m\u001b[1;33m,\u001b[0m\u001b[1;33m\u001b[0m\u001b[1;33m\u001b[0m\u001b[0m\n\u001b[0;32m   2516\u001b[0m         zorder=None, *, data=None):\n\u001b[1;32m-> 2517\u001b[1;33m     return gca().boxplot(\n\u001b[0m\u001b[0;32m   2518\u001b[0m         \u001b[0mx\u001b[0m\u001b[1;33m,\u001b[0m \u001b[0mnotch\u001b[0m\u001b[1;33m=\u001b[0m\u001b[0mnotch\u001b[0m\u001b[1;33m,\u001b[0m \u001b[0msym\u001b[0m\u001b[1;33m=\u001b[0m\u001b[0msym\u001b[0m\u001b[1;33m,\u001b[0m \u001b[0mvert\u001b[0m\u001b[1;33m=\u001b[0m\u001b[0mvert\u001b[0m\u001b[1;33m,\u001b[0m \u001b[0mwhis\u001b[0m\u001b[1;33m=\u001b[0m\u001b[0mwhis\u001b[0m\u001b[1;33m,\u001b[0m\u001b[1;33m\u001b[0m\u001b[1;33m\u001b[0m\u001b[0m\n\u001b[0;32m   2519\u001b[0m         \u001b[0mpositions\u001b[0m\u001b[1;33m=\u001b[0m\u001b[0mpositions\u001b[0m\u001b[1;33m,\u001b[0m \u001b[0mwidths\u001b[0m\u001b[1;33m=\u001b[0m\u001b[0mwidths\u001b[0m\u001b[1;33m,\u001b[0m \u001b[0mpatch_artist\u001b[0m\u001b[1;33m=\u001b[0m\u001b[0mpatch_artist\u001b[0m\u001b[1;33m,\u001b[0m\u001b[1;33m\u001b[0m\u001b[1;33m\u001b[0m\u001b[0m\n",
      "\u001b[1;32m~\\anaconda3\\lib\\site-packages\\matplotlib\\__init__.py\u001b[0m in \u001b[0;36minner\u001b[1;34m(ax, data, *args, **kwargs)\u001b[0m\n\u001b[0;32m   1445\u001b[0m     \u001b[1;32mdef\u001b[0m \u001b[0minner\u001b[0m\u001b[1;33m(\u001b[0m\u001b[0max\u001b[0m\u001b[1;33m,\u001b[0m \u001b[1;33m*\u001b[0m\u001b[0margs\u001b[0m\u001b[1;33m,\u001b[0m \u001b[0mdata\u001b[0m\u001b[1;33m=\u001b[0m\u001b[1;32mNone\u001b[0m\u001b[1;33m,\u001b[0m \u001b[1;33m**\u001b[0m\u001b[0mkwargs\u001b[0m\u001b[1;33m)\u001b[0m\u001b[1;33m:\u001b[0m\u001b[1;33m\u001b[0m\u001b[1;33m\u001b[0m\u001b[0m\n\u001b[0;32m   1446\u001b[0m         \u001b[1;32mif\u001b[0m \u001b[0mdata\u001b[0m \u001b[1;32mis\u001b[0m \u001b[1;32mNone\u001b[0m\u001b[1;33m:\u001b[0m\u001b[1;33m\u001b[0m\u001b[1;33m\u001b[0m\u001b[0m\n\u001b[1;32m-> 1447\u001b[1;33m             \u001b[1;32mreturn\u001b[0m \u001b[0mfunc\u001b[0m\u001b[1;33m(\u001b[0m\u001b[0max\u001b[0m\u001b[1;33m,\u001b[0m \u001b[1;33m*\u001b[0m\u001b[0mmap\u001b[0m\u001b[1;33m(\u001b[0m\u001b[0msanitize_sequence\u001b[0m\u001b[1;33m,\u001b[0m \u001b[0margs\u001b[0m\u001b[1;33m)\u001b[0m\u001b[1;33m,\u001b[0m \u001b[1;33m**\u001b[0m\u001b[0mkwargs\u001b[0m\u001b[1;33m)\u001b[0m\u001b[1;33m\u001b[0m\u001b[1;33m\u001b[0m\u001b[0m\n\u001b[0m\u001b[0;32m   1448\u001b[0m \u001b[1;33m\u001b[0m\u001b[0m\n\u001b[0;32m   1449\u001b[0m         \u001b[0mbound\u001b[0m \u001b[1;33m=\u001b[0m \u001b[0mnew_sig\u001b[0m\u001b[1;33m.\u001b[0m\u001b[0mbind\u001b[0m\u001b[1;33m(\u001b[0m\u001b[0max\u001b[0m\u001b[1;33m,\u001b[0m \u001b[1;33m*\u001b[0m\u001b[0margs\u001b[0m\u001b[1;33m,\u001b[0m \u001b[1;33m**\u001b[0m\u001b[0mkwargs\u001b[0m\u001b[1;33m)\u001b[0m\u001b[1;33m\u001b[0m\u001b[1;33m\u001b[0m\u001b[0m\n",
      "\u001b[1;32m~\\anaconda3\\lib\\site-packages\\matplotlib\\axes\\_axes.py\u001b[0m in \u001b[0;36mboxplot\u001b[1;34m(self, x, notch, sym, vert, whis, positions, widths, patch_artist, bootstrap, usermedians, conf_intervals, meanline, showmeans, showcaps, showbox, showfliers, boxprops, labels, flierprops, medianprops, meanprops, capprops, whiskerprops, manage_ticks, autorange, zorder)\u001b[0m\n\u001b[0;32m   3727\u001b[0m             \u001b[1;31m# 'showfliers=False' but none-the-less deal with it to keep back\u001b[0m\u001b[1;33m\u001b[0m\u001b[1;33m\u001b[0m\u001b[1;33m\u001b[0m\u001b[0m\n\u001b[0;32m   3728\u001b[0m             \u001b[1;31m# compatibility\u001b[0m\u001b[1;33m\u001b[0m\u001b[1;33m\u001b[0m\u001b[1;33m\u001b[0m\u001b[0m\n\u001b[1;32m-> 3729\u001b[1;33m             \u001b[1;32mif\u001b[0m \u001b[0msym\u001b[0m \u001b[1;33m==\u001b[0m \u001b[1;34m''\u001b[0m\u001b[1;33m:\u001b[0m\u001b[1;33m\u001b[0m\u001b[1;33m\u001b[0m\u001b[0m\n\u001b[0m\u001b[0;32m   3730\u001b[0m                 \u001b[1;31m# blow away existing dict and make one for invisible markers\u001b[0m\u001b[1;33m\u001b[0m\u001b[1;33m\u001b[0m\u001b[1;33m\u001b[0m\u001b[0m\n\u001b[0;32m   3731\u001b[0m                 \u001b[0mflierprops\u001b[0m \u001b[1;33m=\u001b[0m \u001b[0mdict\u001b[0m\u001b[1;33m(\u001b[0m\u001b[0mlinestyle\u001b[0m\u001b[1;33m=\u001b[0m\u001b[1;34m'none'\u001b[0m\u001b[1;33m,\u001b[0m \u001b[0mmarker\u001b[0m\u001b[1;33m=\u001b[0m\u001b[1;34m''\u001b[0m\u001b[1;33m,\u001b[0m \u001b[0mcolor\u001b[0m\u001b[1;33m=\u001b[0m\u001b[1;34m'none'\u001b[0m\u001b[1;33m)\u001b[0m\u001b[1;33m\u001b[0m\u001b[1;33m\u001b[0m\u001b[0m\n",
      "\u001b[1;32m~\\anaconda3\\lib\\site-packages\\pandas\\core\\generic.py\u001b[0m in \u001b[0;36m__nonzero__\u001b[1;34m(self)\u001b[0m\n\u001b[0;32m   1440\u001b[0m     \u001b[1;33m@\u001b[0m\u001b[0mfinal\u001b[0m\u001b[1;33m\u001b[0m\u001b[1;33m\u001b[0m\u001b[0m\n\u001b[0;32m   1441\u001b[0m     \u001b[1;32mdef\u001b[0m \u001b[0m__nonzero__\u001b[0m\u001b[1;33m(\u001b[0m\u001b[0mself\u001b[0m\u001b[1;33m)\u001b[0m\u001b[1;33m:\u001b[0m\u001b[1;33m\u001b[0m\u001b[1;33m\u001b[0m\u001b[0m\n\u001b[1;32m-> 1442\u001b[1;33m         raise ValueError(\n\u001b[0m\u001b[0;32m   1443\u001b[0m             \u001b[1;34mf\"The truth value of a {type(self).__name__} is ambiguous. \"\u001b[0m\u001b[1;33m\u001b[0m\u001b[1;33m\u001b[0m\u001b[0m\n\u001b[0;32m   1444\u001b[0m             \u001b[1;34m\"Use a.empty, a.bool(), a.item(), a.any() or a.all().\"\u001b[0m\u001b[1;33m\u001b[0m\u001b[1;33m\u001b[0m\u001b[0m\n",
      "\u001b[1;31mValueError\u001b[0m: The truth value of a Series is ambiguous. Use a.empty, a.bool(), a.item(), a.any() or a.all()."
     ]
    },
    {
     "data": {
      "image/png": "[encoded data removed]",
      "text/plain": [
       "<Figure size 432x288 with 1 Axes>"
      ]
     },
     "metadata": {
      "needs_background": "light"
     },
     "output_type": "display_data"
    }
   ],
   "source": [
    "# Boxplot Using Matplotlib\n",
    "\n",
    "plt.boxplot(wines[wines['quality_label'] == 'low']['alcohol'], wines[wines['quality_label'] == 'medium']['alcohol'], wines[wines['quality_label'] == 'high']['alcohol'])#, patch_artist=True, boxprops=dict(facecolor='g', color='k'), medianprops=dict(color='k'))#,labels=['low', 'medium', 'high'])\n",
    "plt.title(\"Boxplot Using Matplotlib\")\n",
    "plt.show()"
   ]
  },
  {
   "cell_type": "code",
   "execution_count": null,
   "metadata": {},
   "outputs": [
    {
     "data": {
      "image/png": "[encoded data removed]",
      "text/plain": [
       "<Figure size 432x288 with 1 Axes>"
      ]
     },
     "metadata": {
      "needs_background": "light"
     },
     "output_type": "display_data"
    }
   ],
   "source": [
    "\n",
    "#Alternative Boxplotting\n",
    "\n",
    "q_low=wines[wines['quality_label'] == 'low']['alcohol']\n",
    "q_medium=wines[wines['quality_label'] == 'medium']['alcohol']\n",
    "q_high=wines[wines['quality_label'] == 'high']['alcohol']\n",
    "\n",
    "q_label=[q_low,q_medium,q_high]\n",
    "\n",
    "plt.boxplot(q_label)\n",
    "# patch_artist=True, \n",
    "# boxprops=dict(facecolor='g', color='k'), \n",
    "# medianprops=dict(color='k')) \n",
    "# labels=['low', 'medium', 'high'])\n",
    "plt.title(\"Boxplot Using Matplotlib\")\n",
    "plt.show()"
   ]
  },
  {
   "cell_type": "code",
   "execution_count": null,
   "metadata": {},
   "outputs": [
    {
     "data": {
      "image/png": "[encoded data removed]",
      "text/plain": [
       "<Figure size 648x288 with 2 Axes>"
      ]
     },
     "metadata": {
      "needs_background": "light"
     },
     "output_type": "display_data"
    },
    {
     "data": {
      "image/png": "[encoded data removed]",
      "text/plain": [
       "<Figure size 648x288 with 1 Axes>"
      ]
     },
     "metadata": {
      "needs_background": "light"
     },
     "output_type": "display_data"
    }
   ],
   "source": [
    "fig, (ax1, ax2) = plt.subplots(nrows=1, ncols=2, figsize=(9, 4), sharey=True)\n",
    "\n",
    "# rectangular box plot\n",
    "bplot1 = ax1.boxplot([red_df[red_df['quality_label'] == 'low']['alcohol'], red_df[red_df['quality_label'] == 'medium']['alcohol'], red_df[red_df['quality_label'] == 'high']['alcohol']],\n",
    "                     patch_artist=True,  # fill with color\n",
    "                     boxprops=dict(facecolor='r', color='k'), #Color box\n",
    "                     medianprops=dict(color='k'), #Mean color\n",
    "                     labels=['low', 'medium', 'high'])  # will be used to label x-ticks\n",
    "ax1.set_title('Red')\n",
    "\n",
    "bplot2 = ax2.boxplot([white_df[white_df['quality_label'] == 'low']['alcohol'], white_df[white_df['quality_label'] == 'medium']['alcohol'], white_df[white_df['quality_label'] == 'high']['alcohol']],\n",
    "                     patch_artist=True,  \n",
    "                     boxprops=dict(facecolor='y', color='k'), \n",
    "                     medianprops=dict(color='k'), \n",
    "                    labels=['low', 'medium', 'high'])\n",
    "ax2.set_title('White')\n",
    "plt.show()\n",
    "\n",
    "fig, (ax) = plt.subplots(nrows=1, ncols=1, figsize=(9, 4), sharey=True)\n",
    "quality_boxplot = ax.boxplot([wines[wines['quality_label'] == 'low']['alcohol'], wines[wines['quality_label'] == 'medium']['alcohol'], wines[wines['quality_label'] == 'high']['alcohol']],\n",
    "                     patch_artist=True,  \n",
    "                     boxprops=dict(facecolor='g', color='k'), \n",
    "                     medianprops=dict(color='k'), \n",
    "                    labels=['low', 'medium', 'high'])\n",
    "ax.set_title('All Data')\n",
    "plt.show()"
   ]
  },
  {
   "cell_type": "code",
   "execution_count": null,
   "metadata": {},
   "outputs": [
    {
     "name": "stdout",
     "output_type": "stream",
     "text": [
      "ANOVA test for mean alcohol levels across wine samples with different quality ratings\n",
      "F Statistic: 673.0745347231032 \tp-value: 2.2715337450621843e-266\n"
     ]
    }
   ],
   "source": [
    "# Alcohol level vary significantly among the low quality, medium quality and high quality wines?\n",
    "\n",
    "F, p = stats.f_oneway(wines[wines['quality_label'] == 'low']['alcohol'],\n",
    "wines[wines['quality_label'] == 'medium']['alcohol'],\n",
    "wines[wines['quality_label'] == 'high']['alcohol'])\n",
    "print('ANOVA test for mean alcohol levels across wine samples with different quality ratings')\n",
    "print('F Statistic:', F, '\\tp-value:', p)"
   ]
  },
  {
   "cell_type": "code",
   "execution_count": null,
   "metadata": {},
   "outputs": [
    {
     "data": {
      "image/png": "[encoded data removed]",
      "text/plain": [
       "<Figure size 432x288 with 12 Axes>"
      ]
     },
     "metadata": {
      "needs_background": "light"
     },
     "output_type": "display_data"
    }
   ],
   "source": [
    "#Univariate Analysis Red\n",
    "\n",
    "red_df.hist(bins=15, color='red', edgecolor='black', linewidth=1.0, xlabelsize=8, ylabelsize=8, grid=False)\n",
    "\n",
    "plt.tight_layout(rect=(0, 0, 1.2, 1.2))\n",
    "\n",
    "rt = plt.suptitle('Red Wine Univariate Plots', x=0.65, y=1.25, fontsize=15)"
   ]
  },
  {
   "cell_type": "code",
   "execution_count": 29,
   "metadata": {},
   "outputs": [
    {
     "data": {
      "image/png": "[encoded data removed]",
      "text/plain": [
       "<Figure size 432x288 with 12 Axes>"
      ]
     },
     "metadata": {
      "needs_background": "light"
     },
     "output_type": "display_data"
    }
   ],
   "source": [
    "#Univariate Analysis White\n",
    "\n",
    "white_df.hist(bins=15, color='yellow', edgecolor='black', linewidth=1.0, xlabelsize=8, ylabelsize=8, grid=False)\n",
    "\n",
    "plt.tight_layout(rect=(0, 0, 1.2, 1.2))\n",
    "\n",
    "rt = plt.suptitle('White Wine Univariate Plots', x=0.65, y=1.25, fontsize=15)"
   ]
  },
  {
   "cell_type": "code",
   "execution_count": null,
   "metadata": {},
   "outputs": [],
   "source": [
    "# Scarter plot + Regretion of:\n",
    "# 1. Quality/solphites\n",
    "# 2. quality/alchol = ?\n",
    "# 3. fixed acidity + volatile acidity + citric acid/ Red + white\n",
    "# 4. fixed acidity + volatile acidity + citric acid/ quality\n",
    "# 5. Acidity(fxed+volatile+citric) + Sulphites(free+total)/quality"
   ]
  },
  {
   "cell_type": "code",
   "execution_count": null,
   "metadata": {},
   "outputs": [],
   "source": [
    "#%reset"
   ]
  }
 ],
 "metadata": {
  "interpreter": {
   "hash": "4ab92f9d484bccba0f50fef4945cfa2ff18621070182d288e11e1b27e8c09bd3"
  },
  "kernelspec": {
   "display_name": "Python 3.8.8 64-bit ('base': conda)",
   "name": "python3"
  },
  "language_info": {
   "codemirror_mode": {
    "name": "ipython",
    "version": 3
   },
   "file_extension": ".py",
   "mimetype": "text/x-python",
   "name": "python",
   "nbconvert_exporter": "python",
   "pygments_lexer": "ipython3",
   "version": "3.8.8"
  },
  "orig_nbformat": 4
 },
 "nbformat": 4,
 "nbformat_minor": 2
}
