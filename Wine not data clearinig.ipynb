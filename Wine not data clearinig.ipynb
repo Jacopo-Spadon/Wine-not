{
 "cells": [
  {
   "cell_type": "code",
   "execution_count": 7,
   "metadata": {},
   "outputs": [],
   "source": [
    "# Import libries\n",
    "\n",
    "import pandas as pd\n",
    "import numpy as np\n"
   ]
  },
  {
   "cell_type": "code",
   "execution_count": 16,
   "metadata": {},
   "outputs": [],
   "source": [
    "# Import dataframes AND Specify a custom delimiter for the CSV input (sep=' ')\n",
    "\n",
    "wine_red_df=pd.read_csv(r'C:\\Users\\jspad\\Documents\\Code Academy\\Data Bases\\winequality-red.csv', sep=';')\n",
    "wine_white_df=pd.read_csv(r'C:\\Users\\jspad\\Documents\\Code Academy\\Data Bases\\winequality-white.csv',sep=';')"
   ]
  },
  {
   "cell_type": "code",
   "execution_count": 21,
   "metadata": {},
   "outputs": [
    {
     "data": {
      "text/plain": [
       "fixed acidity           0\n",
       "volatile acidity        0\n",
       "citric acid             0\n",
       "residual sugar          0\n",
       "chlorides               0\n",
       "free sulfur dioxide     0\n",
       "total sulfur dioxide    0\n",
       "density                 0\n",
       "pH                      0\n",
       "sulphates               0\n",
       "alcohol                 0\n",
       "quality                 0\n",
       "dtype: int64"
      ]
     },
     "execution_count": 21,
     "metadata": {},
     "output_type": "execute_result"
    }
   ],
   "source": [
    "# Checking null values\n",
    "\n",
    "wine_red_df.isnull().sum()\n",
    "wine_white_df.isnull().sum()"
   ]
  }
 ],
 "metadata": {
  "interpreter": {
   "hash": "4ab92f9d484bccba0f50fef4945cfa2ff18621070182d288e11e1b27e8c09bd3"
  },
  "kernelspec": {
   "display_name": "Python 3.8.8 64-bit ('base': conda)",
   "name": "python3"
  },
  "language_info": {
   "codemirror_mode": {
    "name": "ipython",
    "version": 3
   },
   "file_extension": ".py",
   "mimetype": "text/x-python",
   "name": "python",
   "nbconvert_exporter": "python",
   "pygments_lexer": "ipython3",
   "version": "3.8.8"
  },
  "orig_nbformat": 4
 },
 "nbformat": 4,
 "nbformat_minor": 2
}
